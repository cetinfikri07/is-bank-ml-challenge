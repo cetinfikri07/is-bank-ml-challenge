{
  "cells": [
    {
      "cell_type": "code",
      "execution_count": 1,
      "metadata": {
        "colab": {
          "base_uri": "https://localhost:8080/"
        },
        "id": "YC5tqppmvnqP",
        "outputId": "02ee7884-8b4a-4082-ab28-971933833839"
      },
      "outputs": [
        {
          "name": "stdout",
          "output_type": "stream",
          "text": [
            "Requirement already satisfied: catboost in c:\\users\\fikri\\appdata\\local\\programs\\python\\python310\\lib\\site-packages (1.2)\n",
            "Requirement already satisfied: pandas>=0.24 in c:\\users\\fikri\\appdata\\local\\programs\\python\\python310\\lib\\site-packages (from catboost) (2.0.1)\n",
            "Requirement already satisfied: six in c:\\users\\fikri\\appdata\\local\\programs\\python\\python310\\lib\\site-packages (from catboost) (1.16.0)\n",
            "Requirement already satisfied: numpy>=1.16.0 in c:\\users\\fikri\\appdata\\local\\programs\\python\\python310\\lib\\site-packages (from catboost) (1.23.5)\n",
            "Requirement already satisfied: graphviz in c:\\users\\fikri\\appdata\\local\\programs\\python\\python310\\lib\\site-packages (from catboost) (0.20.1)\n",
            "Requirement already satisfied: scipy in c:\\users\\fikri\\appdata\\local\\programs\\python\\python310\\lib\\site-packages (from catboost) (1.10.1)\n",
            "Requirement already satisfied: matplotlib in c:\\users\\fikri\\appdata\\local\\programs\\python\\python310\\lib\\site-packages (from catboost) (3.7.1)\n",
            "Requirement already satisfied: plotly in c:\\users\\fikri\\appdata\\local\\programs\\python\\python310\\lib\\site-packages (from catboost) (5.14.1)\n",
            "Requirement already satisfied: python-dateutil>=2.8.2 in c:\\users\\fikri\\appdata\\local\\programs\\python\\python310\\lib\\site-packages (from pandas>=0.24->catboost) (2.8.2)\n",
            "Requirement already satisfied: pytz>=2020.1 in c:\\users\\fikri\\appdata\\local\\programs\\python\\python310\\lib\\site-packages (from pandas>=0.24->catboost) (2022.1)\n",
            "Requirement already satisfied: tzdata>=2022.1 in c:\\users\\fikri\\appdata\\local\\programs\\python\\python310\\lib\\site-packages (from pandas>=0.24->catboost) (2023.3)\n",
            "Requirement already satisfied: contourpy>=1.0.1 in c:\\users\\fikri\\appdata\\local\\programs\\python\\python310\\lib\\site-packages (from matplotlib->catboost) (1.0.7)\n",
            "Requirement already satisfied: pillow>=6.2.0 in c:\\users\\fikri\\appdata\\local\\programs\\python\\python310\\lib\\site-packages (from matplotlib->catboost) (9.5.0)\n",
            "Requirement already satisfied: pyparsing>=2.3.1 in c:\\users\\fikri\\appdata\\local\\programs\\python\\python310\\lib\\site-packages (from matplotlib->catboost) (3.0.9)\n",
            "Requirement already satisfied: fonttools>=4.22.0 in c:\\users\\fikri\\appdata\\local\\programs\\python\\python310\\lib\\site-packages (from matplotlib->catboost) (4.39.4)\n",
            "Requirement already satisfied: cycler>=0.10 in c:\\users\\fikri\\appdata\\local\\programs\\python\\python310\\lib\\site-packages (from matplotlib->catboost) (0.11.0)\n",
            "Requirement already satisfied: packaging>=20.0 in c:\\users\\fikri\\appdata\\local\\programs\\python\\python310\\lib\\site-packages (from matplotlib->catboost) (23.1)\n",
            "Requirement already satisfied: kiwisolver>=1.0.1 in c:\\users\\fikri\\appdata\\local\\programs\\python\\python310\\lib\\site-packages (from matplotlib->catboost) (1.4.4)\n",
            "Requirement already satisfied: tenacity>=6.2.0 in c:\\users\\fikri\\appdata\\local\\programs\\python\\python310\\lib\\site-packages (from plotly->catboost) (8.2.2)\n"
          ]
        },
        {
          "name": "stderr",
          "output_type": "stream",
          "text": [
            "WARNING: You are using pip version 21.2.3; however, version 23.2.1 is available.\n",
            "You should consider upgrading via the 'C:\\Users\\Fikri\\AppData\\Local\\Programs\\Python\\Python310\\python.exe -m pip install --upgrade pip' command.\n"
          ]
        }
      ],
      "source": [
        "!pip install catboost"
      ]
    },
    {
      "cell_type": "code",
      "execution_count": 2,
      "metadata": {
        "id": "TG0i7TKYPJeH"
      },
      "outputs": [],
      "source": [
        "from pathlib import Path\n",
        "from warnings import simplefilter\n",
        "\n",
        "import numpy as np\n",
        "import pandas as pd\n",
        "import matplotlib.pyplot as plt\n",
        "import seaborn as sns\n",
        "\n",
        "from sklearn.model_selection import train_test_split\n",
        "from sklearn.compose import ColumnTransformer\n",
        "from sklearn.preprocessing import OneHotEncoder\n",
        "from sklearn.metrics import jaccard_score\n",
        "\n",
        "from sklearn.multioutput import MultiOutputClassifier\n",
        "from sklearn.linear_model import LogisticRegression\n",
        "from sklearn.ensemble import RandomForestClassifier, AdaBoostClassifier\n",
        "\n",
        "from xgboost import XGBClassifier\n",
        "import lightgbm as lgb\n",
        "from catboost import CatBoostClassifier\n",
        "\n",
        "simplefilter('ignore')\n",
        "pd.set_option('display.max_columns',None)\n",
        "pd.set_option('display.max_rows',None)\n",
        "\n",
        "plt.style.use('ggplot')\n",
        "plt.rc('figure',autolayout=True, figsize=(11,4))\n",
        "plt.rc(\n",
        "    \"axes\",\n",
        "    labelweight=\"bold\",\n",
        "    labelsize=\"large\",\n",
        "    titleweight=\"bold\",\n",
        "    titlesize=18,\n",
        "    titlepad=10\n",
        ")"
      ]
    },
    {
      "cell_type": "code",
      "execution_count": 3,
      "metadata": {
        "id": "JYTwGwY0PJeK"
      },
      "outputs": [],
      "source": [
        "data_dir = Path('../data')\n",
        "\n",
        "df_train = pd.read_parquet(\n",
        "    data_dir / 'train_final.parquet'\n",
        ")\n",
        "\n",
        "df_test = pd.read_parquet(\n",
        "    data_dir / 'test_final.parquet'\n",
        ")\n",
        "\n",
        "ss = pd.read_parquet(\n",
        "    data_dir / 'submission_sample_final.parquet'\n",
        ")"
      ]
    },
    {
      "cell_type": "markdown",
      "metadata": {
        "id": "041QBfa4QY_x"
      },
      "source": [
        "### Basic FE"
      ]
    },
    {
      "cell_type": "code",
      "execution_count": 4,
      "metadata": {
        "id": "wn7y9Fn6PJeO"
      },
      "outputs": [
        {
          "name": "stdout",
          "output_type": "stream",
          "text": [
            "Shape DF Train (94049, 79), Shape DF Test (11955, 70)\n"
          ]
        }
      ],
      "source": [
        "def binarize_targets(dataframe,menu_count = 9):\n",
        "  unique_menus = ['menu' + str(i) for i in range(1,menu_count + 1)]\n",
        "  dataframe[unique_menus] = 0\n",
        "  for i,row in dataframe.iterrows():\n",
        "    menus = row['target'].split(', ')\n",
        "    for menu in menus:\n",
        "        if menu in unique_menus:\n",
        "            dataframe.loc[i,menu] = 1\n",
        "\n",
        "  dataframe.drop('target',axis=1,inplace=True)\n",
        "\n",
        "  return dataframe\n",
        "\n",
        "def month_as_category(dataframe):\n",
        "   dataframe['month'] = dataframe['month'].astype('object')\n",
        "\n",
        "   return dataframe\n",
        "\n",
        "def normalize_n_seconds(dataframe):\n",
        "  dataframe['n_seconds'] = dataframe[['n_seconds_1','n_seconds_2','n_seconds_3']].sum(axis=1)\n",
        "\n",
        "  for col in ['n_seconds_1','n_seconds_2','n_seconds_3']:\n",
        "      dataframe[col] = dataframe[col] / dataframe['n_seconds']\n",
        "\n",
        "  return dataframe\n",
        "\n",
        "\n",
        "def change_carrier(carrier):\n",
        "  if carrier not in ['TURKCELL','VODAFONE TR', 'TURK TELEKOM']:\n",
        "    carrier = 'OTHER'\n",
        "\n",
        "  return carrier\n",
        "\n",
        "def change_device_brand(devicebrand):\n",
        "  if devicebrand != 'Apple':\n",
        "    devicebrand = 'Android'\n",
        "\n",
        "  return devicebrand\n",
        "\n",
        "def create_age_groups(dataframe):\n",
        "  bins = [20,30,40,50,60,70,120]\n",
        "  labels = ['20-29','30-39','40-49','50-59','60-69','70+']\n",
        "  dataframe['age_group'] = pd.cut(dataframe.feature_49, bins, labels=labels, include_lowest=True)\n",
        "\n",
        "  return dataframe\n",
        "\n",
        "def encode_categoricals(dataframe,encoder,categorical_features):\n",
        "\n",
        "   encoded_data = encoder.transform(dataframe[categorical_features])\n",
        "   df_encoded = pd.concat(\n",
        "      [\n",
        "         dataframe.drop(categorical_features,axis=1),\n",
        "         pd.DataFrame(encoded_data, columns=encoder.get_feature_names_out(categorical_features))\n",
        "      ],\n",
        "      axis=1\n",
        "   )\n",
        "   df_encoded[encoder.get_feature_names_out(categorical_features)] = df_encoded[encoder.get_feature_names_out(categorical_features)].astype(int)\n",
        "   return df_encoded\n",
        "\n",
        "df_train = binarize_targets(dataframe=df_train)\n",
        "\n",
        "encoder = OneHotEncoder(handle_unknown='ignore', sparse=False)\n",
        "\n",
        "for df in [df_train,df_test]:\n",
        "  df = month_as_category(dataframe=df)\n",
        "  df = normalize_n_seconds(dataframe=df)\n",
        "  df['carrier'] = df['carrier'].apply(change_carrier)\n",
        "  df['devicebrand'] = df['devicebrand'].apply(change_device_brand)\n",
        "  df = create_age_groups(dataframe=df)\n",
        "\n",
        "\n",
        "categorical_features = ['month','carrier','devicebrand','age_group']\n",
        "encoder.fit(df_train[categorical_features])\n",
        "\n",
        "df_train = encode_categoricals(dataframe=df_train, encoder=encoder,categorical_features=categorical_features)\n",
        "df_test = encode_categoricals(dataframe=df_test, encoder=encoder,categorical_features=categorical_features)\n",
        "\n",
        "print(f'Shape DF Train {df_train.shape}, Shape DF Test {df_test.shape}')"
      ]
    },
    {
      "cell_type": "markdown",
      "metadata": {
        "id": "9SrItFI4ZTIP"
      },
      "source": [
        "### Train Test Split"
      ]
    },
    {
      "cell_type": "code",
      "execution_count": 5,
      "metadata": {
        "colab": {
          "base_uri": "https://localhost:8080/"
        },
        "id": "vyRT6G-iYa1o",
        "outputId": "412aefa2-0a56-43ae-90f5-5a398bae45f3"
      },
      "outputs": [
        {
          "name": "stdout",
          "output_type": "stream",
          "text": [
            "X_train shape (75239, 69), y_train shape (75239, 9)\n",
            "X_test shape (18810, 69), y_test shape (18810, 9)\n"
          ]
        }
      ],
      "source": [
        "targets = ['menu1','menu2', 'menu3', 'menu4', 'menu5', 'menu6', 'menu7', 'menu8', 'menu9']\n",
        "\n",
        "X = df_train.drop(targets + ['id'], axis=1)\n",
        "y = df_train[targets]\n",
        "\n",
        "X_train, X_test, y_train, y_test = train_test_split(\n",
        "    X,\n",
        "    y,\n",
        "    test_size=0.2,\n",
        "    random_state=0\n",
        ")\n",
        "\n",
        "print(f'X_train shape {X_train.shape}, y_train shape {y_train.shape}')\n",
        "print(f'X_test shape {X_test.shape}, y_test shape {y_test.shape}')"
      ]
    },
    {
      "cell_type": "markdown",
      "metadata": {
        "id": "bk7oKzoyaJtK"
      },
      "source": [
        "### Modelling"
      ]
    },
    {
      "cell_type": "code",
      "execution_count": 6,
      "metadata": {
        "colab": {
          "base_uri": "https://localhost:8080/"
        },
        "id": "Rg8h4ucxZ-rY",
        "outputId": "6db54c4c-fe24-44c3-c852-71d5603eee8d"
      },
      "outputs": [
        {
          "name": "stdout",
          "output_type": "stream",
          "text": [
            "Before hp tuning Train Jaccard Score: 0.6566567705332536 Test Jaccard Score: 0.5028963313136694 \n",
            "Train Jaccard Score: 0.5651368958260381 Test Jaccard Score: 0.5142692302531833\n"
          ]
        }
      ],
      "source": [
        "def binarize_preds(preds):\n",
        "    sorted_indices = np.argsort(preds, axis=1)[:, ::-1]\n",
        "    binary_array = np.zeros_like(preds)\n",
        "    \n",
        "    for row, indices in enumerate(sorted_indices[:, :3]):\n",
        "        binary_array[row, indices] = 1\n",
        "\n",
        "    return binary_array.astype(int)\n",
        "\n",
        "def evaluate_model(model,eval_set,y_true):\n",
        "    y_pred = model.predict_proba(eval_set)\n",
        "    y_pred = binarize_preds(preds=y_pred)\n",
        "\n",
        "    js = jaccard_score(y_true,y_pred,average='micro') \n",
        "\n",
        "    return js\n",
        "\n",
        "\n",
        "params = {'lambda': 0.002726063447574496, \n",
        "        'alpha': 0.0035451668057874825, \n",
        "        'colsample_bytree': 0.6,\n",
        "        'subsample': 0.6, \n",
        "        'learning_rate': 0.016,\n",
        "        'n_estimators': 275, \n",
        "        'max_depth': 15, \n",
        "        'random_state': 2020, \n",
        "        'min_child_weight': 37,\n",
        "        'tree_method' : 'hist'}\n",
        "\n",
        "xgb_clf = XGBClassifier(**params)\n",
        "xgb_clf.fit(X_train,y_train)\n",
        "\n",
        "train_js = evaluate_model(model=xgb_clf,eval_set=X_train,y_true=y_train)\n",
        "test_js = evaluate_model(model=xgb_clf,eval_set=X_test,y_true=y_test)\n",
        "\n",
        "print('Before hp tuning Train Jaccard Score: 0.6566567705332536 Test Jaccard Score: 0.5028963313136694 ')\n",
        "print(f'Train Jaccard Score: {train_js} Test Jaccard Score: {test_js}')"
      ]
    },
    {
      "cell_type": "markdown",
      "metadata": {},
      "source": [
        "#### Submission"
      ]
    },
    {
      "cell_type": "code",
      "execution_count": 7,
      "metadata": {},
      "outputs": [
        {
          "data": {
            "text/html": [
              "<div>\n",
              "<style scoped>\n",
              "    .dataframe tbody tr th:only-of-type {\n",
              "        vertical-align: middle;\n",
              "    }\n",
              "\n",
              "    .dataframe tbody tr th {\n",
              "        vertical-align: top;\n",
              "    }\n",
              "\n",
              "    .dataframe thead th {\n",
              "        text-align: right;\n",
              "    }\n",
              "</style>\n",
              "<table border=\"1\" class=\"dataframe\">\n",
              "  <thead>\n",
              "    <tr style=\"text-align: right;\">\n",
              "      <th></th>\n",
              "      <th>id</th>\n",
              "      <th>target</th>\n",
              "    </tr>\n",
              "  </thead>\n",
              "  <tbody>\n",
              "    <tr>\n",
              "      <th>0</th>\n",
              "      <td>2e6105f5911256f4f6c4813ed</td>\n",
              "      <td>010001010</td>\n",
              "    </tr>\n",
              "    <tr>\n",
              "      <th>1</th>\n",
              "      <td>c56ad71dae0a5dbd3e7d36adc</td>\n",
              "      <td>010101000</td>\n",
              "    </tr>\n",
              "    <tr>\n",
              "      <th>2</th>\n",
              "      <td>4d02ea175f6581f0c6385311f</td>\n",
              "      <td>010001010</td>\n",
              "    </tr>\n",
              "    <tr>\n",
              "      <th>3</th>\n",
              "      <td>3412d27a86c286ba078fa935c</td>\n",
              "      <td>010001010</td>\n",
              "    </tr>\n",
              "    <tr>\n",
              "      <th>4</th>\n",
              "      <td>0203b561f6f7e10eafa46eefa</td>\n",
              "      <td>010001010</td>\n",
              "    </tr>\n",
              "  </tbody>\n",
              "</table>\n",
              "</div>"
            ],
            "text/plain": [
              "                          id     target\n",
              "0  2e6105f5911256f4f6c4813ed  010001010\n",
              "1  c56ad71dae0a5dbd3e7d36adc  010101000\n",
              "2  4d02ea175f6581f0c6385311f  010001010\n",
              "3  3412d27a86c286ba078fa935c  010001010\n",
              "4  0203b561f6f7e10eafa46eefa  010001010"
            ]
          },
          "execution_count": 7,
          "metadata": {},
          "output_type": "execute_result"
        }
      ],
      "source": [
        "df_test[targets] = binarize_preds(xgb_clf.predict_proba(df_test.drop('id',axis=1)))\n",
        "ss['target'] = df_test[targets].apply(lambda row: ''.join(map(str, row)), axis=1)\n",
        "ss.head()"
      ]
    },
    {
      "cell_type": "code",
      "execution_count": 8,
      "metadata": {},
      "outputs": [],
      "source": [
        "ss.to_parquet('../submissions/xg_boost_tuned_sub.parquet')"
      ]
    }
  ],
  "metadata": {
    "colab": {
      "provenance": []
    },
    "kernelspec": {
      "display_name": "Python 3",
      "language": "python",
      "name": "python3"
    },
    "language_info": {
      "codemirror_mode": {
        "name": "ipython",
        "version": 3
      },
      "file_extension": ".py",
      "mimetype": "text/x-python",
      "name": "python",
      "nbconvert_exporter": "python",
      "pygments_lexer": "ipython3",
      "version": "3.10.0"
    },
    "orig_nbformat": 4
  },
  "nbformat": 4,
  "nbformat_minor": 0
}
