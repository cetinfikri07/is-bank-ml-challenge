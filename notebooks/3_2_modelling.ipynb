{
  "cells": [
    {
      "cell_type": "code",
      "source": [
        "!pip install catboost"
      ],
      "metadata": {
        "id": "YC5tqppmvnqP",
        "outputId": "02ee7884-8b4a-4082-ab28-971933833839",
        "colab": {
          "base_uri": "https://localhost:8080/"
        }
      },
      "execution_count": 75,
      "outputs": [
        {
          "output_type": "stream",
          "name": "stdout",
          "text": [
            "Requirement already satisfied: catboost in /usr/local/lib/python3.10/dist-packages (1.2.2)\n",
            "Requirement already satisfied: graphviz in /usr/local/lib/python3.10/dist-packages (from catboost) (0.20.1)\n",
            "Requirement already satisfied: matplotlib in /usr/local/lib/python3.10/dist-packages (from catboost) (3.7.1)\n",
            "Requirement already satisfied: numpy>=1.16.0 in /usr/local/lib/python3.10/dist-packages (from catboost) (1.23.5)\n",
            "Requirement already satisfied: pandas>=0.24 in /usr/local/lib/python3.10/dist-packages (from catboost) (1.5.3)\n",
            "Requirement already satisfied: scipy in /usr/local/lib/python3.10/dist-packages (from catboost) (1.11.3)\n",
            "Requirement already satisfied: plotly in /usr/local/lib/python3.10/dist-packages (from catboost) (5.15.0)\n",
            "Requirement already satisfied: six in /usr/local/lib/python3.10/dist-packages (from catboost) (1.16.0)\n",
            "Requirement already satisfied: python-dateutil>=2.8.1 in /usr/local/lib/python3.10/dist-packages (from pandas>=0.24->catboost) (2.8.2)\n",
            "Requirement already satisfied: pytz>=2020.1 in /usr/local/lib/python3.10/dist-packages (from pandas>=0.24->catboost) (2023.3.post1)\n",
            "Requirement already satisfied: contourpy>=1.0.1 in /usr/local/lib/python3.10/dist-packages (from matplotlib->catboost) (1.1.1)\n",
            "Requirement already satisfied: cycler>=0.10 in /usr/local/lib/python3.10/dist-packages (from matplotlib->catboost) (0.12.0)\n",
            "Requirement already satisfied: fonttools>=4.22.0 in /usr/local/lib/python3.10/dist-packages (from matplotlib->catboost) (4.43.1)\n",
            "Requirement already satisfied: kiwisolver>=1.0.1 in /usr/local/lib/python3.10/dist-packages (from matplotlib->catboost) (1.4.5)\n",
            "Requirement already satisfied: packaging>=20.0 in /usr/local/lib/python3.10/dist-packages (from matplotlib->catboost) (23.2)\n",
            "Requirement already satisfied: pillow>=6.2.0 in /usr/local/lib/python3.10/dist-packages (from matplotlib->catboost) (9.4.0)\n",
            "Requirement already satisfied: pyparsing>=2.3.1 in /usr/local/lib/python3.10/dist-packages (from matplotlib->catboost) (3.1.1)\n",
            "Requirement already satisfied: tenacity>=6.2.0 in /usr/local/lib/python3.10/dist-packages (from plotly->catboost) (8.2.3)\n"
          ]
        }
      ]
    },
    {
      "cell_type": "code",
      "execution_count": 76,
      "metadata": {
        "id": "TG0i7TKYPJeH"
      },
      "outputs": [],
      "source": [
        "from pathlib import Path\n",
        "from warnings import simplefilter\n",
        "\n",
        "import numpy as np\n",
        "import pandas as pd\n",
        "import matplotlib.pyplot as plt\n",
        "import seaborn as sns\n",
        "\n",
        "simplefilter('ignore')\n",
        "pd.set_option('display.max_columns',None)\n",
        "pd.set_option('display.max_rows',None)\n",
        "\n",
        "plt.style.use('ggplot')\n",
        "plt.rc('figure',autolayout=True, figsize=(11,4))\n",
        "plt.rc(\n",
        "    \"axes\",\n",
        "    labelweight=\"bold\",\n",
        "    labelsize=\"large\",\n",
        "    titleweight=\"bold\",\n",
        "    titlesize=18,\n",
        "    titlepad=10\n",
        ")"
      ]
    },
    {
      "cell_type": "code",
      "execution_count": 77,
      "metadata": {
        "id": "JYTwGwY0PJeK"
      },
      "outputs": [],
      "source": [
        "data_dir = Path('data')\n",
        "\n",
        "df = pd.read_parquet(\n",
        "    data_dir / 'train_final.parquet'\n",
        ")\n",
        "\n",
        "test = pd.read_parquet(\n",
        "    data_dir / 'test_final.parquet'\n",
        ")\n",
        "\n",
        "ss = pd.read_parquet(\n",
        "    data_dir / 'submission_sample_final.parquet'\n",
        ")"
      ]
    },
    {
      "cell_type": "markdown",
      "source": [
        "### Basic FE"
      ],
      "metadata": {
        "id": "041QBfa4QY_x"
      }
    },
    {
      "cell_type": "markdown",
      "source": [
        "#### Binarize Targets"
      ],
      "metadata": {
        "id": "VgfdAKH8TPPe"
      }
    },
    {
      "cell_type": "code",
      "execution_count": 78,
      "metadata": {
        "id": "wn7y9Fn6PJeO"
      },
      "outputs": [],
      "source": [
        "\n",
        "def binarize_targets(dataframe,menu_count = 9):\n",
        "  unique_menus = ['menu' + str(i) for i in range(1,menu_count + 1)]\n",
        "  dataframe[unique_menus] = 0\n",
        "  for i,row in df.iterrows():\n",
        "    menus = row['target'].split(', ')\n",
        "    for menu in menus:\n",
        "        if menu in unique_menus:\n",
        "            dataframe.loc[i,menu] = 1\n",
        "\n",
        "  df.drop('target',axis=1,inplace=True)\n",
        "\n",
        "  return df\n",
        "\n",
        "df = binarize_targets(dataframe=df)"
      ]
    },
    {
      "cell_type": "markdown",
      "source": [
        "#### Normalize N Seconds"
      ],
      "metadata": {
        "id": "FD6zX3IuTXP2"
      }
    },
    {
      "cell_type": "code",
      "source": [
        "def normalize_n_seconds(dataframe):\n",
        "  dataframe['n_seconds'] = dataframe[['n_seconds_1','n_seconds_2','n_seconds_3']].sum(axis=1)\n",
        "\n",
        "  for col in ['n_seconds_1','n_seconds_2','n_seconds_3']:\n",
        "      dataframe[col] = dataframe[col] / dataframe['n_seconds']\n",
        "\n",
        "  return dataframe\n",
        "\n",
        "df = normalize_n_seconds(dataframe=df)"
      ],
      "metadata": {
        "id": "GTMZuJBOQILx"
      },
      "execution_count": 79,
      "outputs": []
    },
    {
      "cell_type": "markdown",
      "source": [
        "#### Device Brand & Device Brand"
      ],
      "metadata": {
        "id": "M_EaoLBoUilL"
      }
    },
    {
      "cell_type": "code",
      "source": [
        "def change_carrier(carrier):\n",
        "  if carrier not in ['TURKCELL','VODAFONE TR', 'TURK TELEKOM']:\n",
        "    carrier = 'OTHER'\n",
        "\n",
        "  return carrier\n",
        "\n",
        "def change_device_brand(devicebrand):\n",
        "  if devicebrand != 'Apple':\n",
        "    devicebrand = 'Android'\n",
        "\n",
        "  return devicebrand\n",
        "\n",
        "df['carrier'] = df['carrier'].apply(change_carrier)\n",
        "df['devicebrand'] = df['devicebrand'].apply(change_device_brand)"
      ],
      "metadata": {
        "id": "qIoi_XiSUXCS"
      },
      "execution_count": 80,
      "outputs": []
    },
    {
      "cell_type": "markdown",
      "source": [
        "#### Age Groups"
      ],
      "metadata": {
        "id": "PS59Hf3UXtY-"
      }
    },
    {
      "cell_type": "code",
      "source": [
        "def create_age_groups(dataframe):\n",
        "  bins = [20,30,40,50,60,70,120]\n",
        "  labels = ['20-29','30-39','40-49','50-59','60-69','70+']\n",
        "  dataframe['age_group'] = pd.cut(dataframe.feature_49, bins, labels=labels, include_lowest=True)\n",
        "\n",
        "  return dataframe\n",
        "\n",
        "df = create_age_groups(dataframe=df)"
      ],
      "metadata": {
        "id": "5zD13nFuWK9c"
      },
      "execution_count": 81,
      "outputs": []
    },
    {
      "cell_type": "markdown",
      "source": [
        "### Train Test Split"
      ],
      "metadata": {
        "id": "9SrItFI4ZTIP"
      }
    },
    {
      "cell_type": "code",
      "source": [
        "from sklearn.model_selection import train_test_split\n",
        "from sklearn.compose import ColumnTransformer\n",
        "from sklearn.preprocessing import OneHotEncoder\n",
        "\n",
        "targets = ['menu1','menu2','menu3','menu4','menu5','menu6','menu7','menu8','menu9']\n",
        "\n",
        "X = df.drop(targets + ['id'],axis=1)\n",
        "y = df[targets]\n",
        "\n",
        "X_train, X_test, y_train, y_test = train_test_split(\n",
        "    X,\n",
        "    y,\n",
        "    test_size = 0.2,\n",
        "    stratify=df['age_group']\n",
        ")\n",
        "\n",
        "print(f'Features: {features}')\n",
        "print(f'X Train set shape: {X_train.shape} \\nX Test set shape: {X_test.shape}')\n",
        "print(f'y Train set shape: {y_train.shape} \\ny Test set shape: {y_test.shape}')"
      ],
      "metadata": {
        "id": "vyRT6G-iYa1o",
        "outputId": "412aefa2-0a56-43ae-90f5-5a398bae45f3",
        "colab": {
          "base_uri": "https://localhost:8080/"
        }
      },
      "execution_count": 82,
      "outputs": [
        {
          "output_type": "stream",
          "name": "stdout",
          "text": [
            "Features: Index(['month', 'n_seconds_1', 'n_seconds_2', 'n_seconds_3', 'carrier',\n",
            "       'devicebrand', 'feature_0', 'feature_1', 'feature_2', 'feature_3',\n",
            "       'feature_4', 'feature_5', 'feature_6', 'feature_7', 'feature_8',\n",
            "       'feature_9', 'feature_10', 'feature_11', 'feature_12', 'feature_13',\n",
            "       'feature_14', 'feature_15', 'feature_16', 'feature_17', 'feature_18',\n",
            "       'feature_19', 'feature_20', 'feature_21', 'feature_22', 'feature_23',\n",
            "       'feature_24', 'feature_25', 'feature_26', 'feature_27', 'feature_28',\n",
            "       'feature_29', 'feature_30', 'feature_31', 'feature_32', 'feature_33',\n",
            "       'feature_34', 'feature_35', 'feature_36', 'feature_37', 'feature_38',\n",
            "       'feature_39', 'feature_40', 'feature_41', 'feature_42', 'feature_43',\n",
            "       'feature_44', 'feature_45', 'feature_46', 'feature_47', 'feature_48',\n",
            "       'feature_49', 'n_seconds', 'age_group'],\n",
            "      dtype='object')\n",
            "X Train set shape: (75239, 58) \n",
            "X Test set shape: (18810, 58)\n",
            "y Train set shape: (75239, 9) \n",
            "y Test set shape: (18810, 9)\n"
          ]
        }
      ]
    },
    {
      "cell_type": "markdown",
      "source": [
        "#### One Hot Encoding"
      ],
      "metadata": {
        "id": "oe2HHbYy-Z70"
      }
    },
    {
      "cell_type": "code",
      "source": [
        "ohe_cols = ['devicebrand','carrier','age_group']\n",
        "ohe = OneHotEncoder(handle_unknown='ignore')\n",
        "\n",
        "ct = ColumnTransformer([\n",
        "    ('ohe',ohe,ohe_cols)\n",
        "],remainder='passthrough', n_jobs=-1)\n",
        "\n",
        "encoder = ct.fit(X_train)\n",
        "\n",
        "X_train =  encoder.transform(X_train)\n",
        "X_test = encoder.transform(X_test)"
      ],
      "metadata": {
        "id": "BSSo00lG-d1u"
      },
      "execution_count": 83,
      "outputs": []
    },
    {
      "cell_type": "markdown",
      "source": [
        "### Modelling"
      ],
      "metadata": {
        "id": "bk7oKzoyaJtK"
      }
    },
    {
      "cell_type": "code",
      "source": [
        "from sklearn.multioutput import MultiOutputClassifier\n",
        "from sklearn.linear_model import LogisticRegression\n",
        "from sklearn.ensemble import RandomForestClassifier, AdaBoostClassifier\n",
        "\n",
        "from xgboost import XGBClassifier\n",
        "import lightgbm as lgb\n",
        "from catboost import CatBoostClassifier\n",
        "\n",
        "\n",
        "xgb_clf = XGBClassifier(tree_method='hist')\n",
        "xgb_clf.fit(X_train,y_train)\n",
        "y_proba = xgb_clf.predict(X_test)\n",
        "\n",
        "print(y_proba)"
      ],
      "metadata": {
        "id": "Rg8h4ucxZ-rY",
        "outputId": "6db54c4c-fe24-44c3-c852-71d5603eee8d",
        "colab": {
          "base_uri": "https://localhost:8080/"
        }
      },
      "execution_count": 84,
      "outputs": [
        {
          "output_type": "stream",
          "name": "stdout",
          "text": [
            "[[0. 1. 0. ... 0. 0. 0.]\n",
            " [0. 1. 0. ... 0. 0. 0.]\n",
            " [0. 1. 0. ... 0. 1. 0.]\n",
            " ...\n",
            " [0. 1. 0. ... 0. 0. 0.]\n",
            " [0. 1. 0. ... 0. 0. 0.]\n",
            " [0. 1. 0. ... 0. 0. 0.]]\n"
          ]
        }
      ]
    }
  ],
  "metadata": {
    "kernelspec": {
      "display_name": "Python 3",
      "language": "python",
      "name": "python3"
    },
    "language_info": {
      "codemirror_mode": {
        "name": "ipython",
        "version": 3
      },
      "file_extension": ".py",
      "mimetype": "text/x-python",
      "name": "python",
      "nbconvert_exporter": "python",
      "pygments_lexer": "ipython3",
      "version": "3.10.0"
    },
    "orig_nbformat": 4,
    "colab": {
      "provenance": []
    }
  },
  "nbformat": 4,
  "nbformat_minor": 0
}