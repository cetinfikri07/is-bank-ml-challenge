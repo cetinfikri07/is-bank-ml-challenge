{
  "cells": [
    {
      "cell_type": "code",
      "execution_count": 1,
      "metadata": {
        "colab": {
          "base_uri": "https://localhost:8080/"
        },
        "id": "YC5tqppmvnqP",
        "outputId": "02ee7884-8b4a-4082-ab28-971933833839"
      },
      "outputs": [
        {
          "name": "stdout",
          "output_type": "stream",
          "text": [
            "Requirement already satisfied: catboost in c:\\users\\fikri\\appdata\\local\\programs\\python\\python310\\lib\\site-packages (1.2)\n",
            "Requirement already satisfied: numpy>=1.16.0 in c:\\users\\fikri\\appdata\\local\\programs\\python\\python310\\lib\\site-packages (from catboost) (1.23.5)\n",
            "Requirement already satisfied: matplotlib in c:\\users\\fikri\\appdata\\local\\programs\\python\\python310\\lib\\site-packages (from catboost) (3.7.1)\n",
            "Requirement already satisfied: pandas>=0.24 in c:\\users\\fikri\\appdata\\local\\programs\\python\\python310\\lib\\site-packages (from catboost) (2.0.1)\n",
            "Requirement already satisfied: graphviz in c:\\users\\fikri\\appdata\\local\\programs\\python\\python310\\lib\\site-packages (from catboost) (0.20.1)\n",
            "Requirement already satisfied: scipy in c:\\users\\fikri\\appdata\\local\\programs\\python\\python310\\lib\\site-packages (from catboost) (1.10.1)\n",
            "Requirement already satisfied: plotly in c:\\users\\fikri\\appdata\\local\\programs\\python\\python310\\lib\\site-packages (from catboost) (5.14.1)\n",
            "Requirement already satisfied: six in c:\\users\\fikri\\appdata\\local\\programs\\python\\python310\\lib\\site-packages (from catboost) (1.16.0)\n",
            "Requirement already satisfied: tzdata>=2022.1 in c:\\users\\fikri\\appdata\\local\\programs\\python\\python310\\lib\\site-packages (from pandas>=0.24->catboost) (2023.3)\n",
            "Requirement already satisfied: python-dateutil>=2.8.2 in c:\\users\\fikri\\appdata\\local\\programs\\python\\python310\\lib\\site-packages (from pandas>=0.24->catboost) (2.8.2)\n",
            "Requirement already satisfied: pytz>=2020.1 in c:\\users\\fikri\\appdata\\local\\programs\\python\\python310\\lib\\site-packages (from pandas>=0.24->catboost) (2022.1)\n",
            "Requirement already satisfied: contourpy>=1.0.1 in c:\\users\\fikri\\appdata\\local\\programs\\python\\python310\\lib\\site-packages (from matplotlib->catboost) (1.0.7)\n",
            "Requirement already satisfied: kiwisolver>=1.0.1 in c:\\users\\fikri\\appdata\\local\\programs\\python\\python310\\lib\\site-packages (from matplotlib->catboost) (1.4.4)\n",
            "Requirement already satisfied: packaging>=20.0 in c:\\users\\fikri\\appdata\\local\\programs\\python\\python310\\lib\\site-packages (from matplotlib->catboost) (23.1)\n",
            "Requirement already satisfied: fonttools>=4.22.0 in c:\\users\\fikri\\appdata\\local\\programs\\python\\python310\\lib\\site-packages (from matplotlib->catboost) (4.39.4)\n",
            "Requirement already satisfied: cycler>=0.10 in c:\\users\\fikri\\appdata\\local\\programs\\python\\python310\\lib\\site-packages (from matplotlib->catboost) (0.11.0)\n",
            "Requirement already satisfied: pyparsing>=2.3.1 in c:\\users\\fikri\\appdata\\local\\programs\\python\\python310\\lib\\site-packages (from matplotlib->catboost) (3.0.9)\n",
            "Requirement already satisfied: pillow>=6.2.0 in c:\\users\\fikri\\appdata\\local\\programs\\python\\python310\\lib\\site-packages (from matplotlib->catboost) (9.5.0)\n",
            "Requirement already satisfied: tenacity>=6.2.0 in c:\\users\\fikri\\appdata\\local\\programs\\python\\python310\\lib\\site-packages (from plotly->catboost) (8.2.2)\n"
          ]
        },
        {
          "name": "stderr",
          "output_type": "stream",
          "text": [
            "WARNING: You are using pip version 21.2.3; however, version 23.2.1 is available.\n",
            "You should consider upgrading via the 'C:\\Users\\Fikri\\AppData\\Local\\Programs\\Python\\Python310\\python.exe -m pip install --upgrade pip' command.\n"
          ]
        }
      ],
      "source": [
        "!pip install catboost"
      ]
    },
    {
      "cell_type": "code",
      "execution_count": 2,
      "metadata": {
        "id": "TG0i7TKYPJeH"
      },
      "outputs": [],
      "source": [
        "from pathlib import Path\n",
        "from warnings import simplefilter\n",
        "\n",
        "import numpy as np\n",
        "import pandas as pd\n",
        "import matplotlib.pyplot as plt\n",
        "import seaborn as sns\n",
        "\n",
        "from sklearn.model_selection import train_test_split\n",
        "from sklearn.compose import ColumnTransformer\n",
        "from sklearn.preprocessing import OneHotEncoder\n",
        "\n",
        "from sklearn.multioutput import MultiOutputClassifier\n",
        "from sklearn.linear_model import LogisticRegression\n",
        "from sklearn.ensemble import RandomForestClassifier, AdaBoostClassifier\n",
        "\n",
        "from xgboost import XGBClassifier\n",
        "import lightgbm as lgb\n",
        "from catboost import CatBoostClassifier\n",
        "\n",
        "simplefilter('ignore')\n",
        "pd.set_option('display.max_columns',None)\n",
        "pd.set_option('display.max_rows',None)\n",
        "\n",
        "plt.style.use('ggplot')\n",
        "plt.rc('figure',autolayout=True, figsize=(11,4))\n",
        "plt.rc(\n",
        "    \"axes\",\n",
        "    labelweight=\"bold\",\n",
        "    labelsize=\"large\",\n",
        "    titleweight=\"bold\",\n",
        "    titlesize=18,\n",
        "    titlepad=10\n",
        ")"
      ]
    },
    {
      "cell_type": "code",
      "execution_count": 3,
      "metadata": {
        "id": "JYTwGwY0PJeK"
      },
      "outputs": [],
      "source": [
        "data_dir = Path('../data')\n",
        "\n",
        "df_train = pd.read_parquet(\n",
        "    data_dir / 'train_final.parquet'\n",
        ")\n",
        "\n",
        "df_test = pd.read_parquet(\n",
        "    data_dir / 'test_final.parquet'\n",
        ")\n",
        "\n",
        "ss = pd.read_parquet(\n",
        "    data_dir / 'submission_sample_final.parquet'\n",
        ")"
      ]
    },
    {
      "cell_type": "markdown",
      "metadata": {
        "id": "041QBfa4QY_x"
      },
      "source": [
        "### Basic FE"
      ]
    },
    {
      "cell_type": "code",
      "execution_count": 4,
      "metadata": {
        "id": "wn7y9Fn6PJeO"
      },
      "outputs": [
        {
          "name": "stdout",
          "output_type": "stream",
          "text": [
            "Shape DF Train (94049, 79), Shape DF Test (11955, 70)\n"
          ]
        }
      ],
      "source": [
        "def binarize_targets(dataframe,menu_count = 9):\n",
        "  unique_menus = ['menu' + str(i) for i in range(1,menu_count + 1)]\n",
        "  dataframe[unique_menus] = 0\n",
        "  for i,row in dataframe.iterrows():\n",
        "    menus = row['target'].split(', ')\n",
        "    for menu in menus:\n",
        "        if menu in unique_menus:\n",
        "            dataframe.loc[i,menu] = 1\n",
        "\n",
        "  dataframe.drop('target',axis=1,inplace=True)\n",
        "\n",
        "  return dataframe\n",
        "\n",
        "def month_as_category(dataframe):\n",
        "   dataframe['month'] = dataframe['month'].astype('object')\n",
        "\n",
        "   return dataframe\n",
        "\n",
        "def normalize_n_seconds(dataframe):\n",
        "  dataframe['n_seconds'] = dataframe[['n_seconds_1','n_seconds_2','n_seconds_3']].sum(axis=1)\n",
        "\n",
        "  for col in ['n_seconds_1','n_seconds_2','n_seconds_3']:\n",
        "      dataframe[col] = dataframe[col] / dataframe['n_seconds']\n",
        "\n",
        "  return dataframe\n",
        "\n",
        "\n",
        "def change_carrier(carrier):\n",
        "  if carrier not in ['TURKCELL','VODAFONE TR', 'TURK TELEKOM']:\n",
        "    carrier = 'OTHER'\n",
        "\n",
        "  return carrier\n",
        "\n",
        "def change_device_brand(devicebrand):\n",
        "  if devicebrand != 'Apple':\n",
        "    devicebrand = 'Android'\n",
        "\n",
        "  return devicebrand\n",
        "\n",
        "def create_age_groups(dataframe):\n",
        "  bins = [20,30,40,50,60,70,120]\n",
        "  labels = ['20-29','30-39','40-49','50-59','60-69','70+']\n",
        "  dataframe['age_group'] = pd.cut(dataframe.feature_49, bins, labels=labels, include_lowest=True)\n",
        "\n",
        "  return dataframe\n",
        "\n",
        "def encode_categoricals(dataframe,encoder,categorical_features):\n",
        "\n",
        "   encoded_data = encoder.transform(dataframe[categorical_features])\n",
        "   df_encoded = pd.concat(\n",
        "      [\n",
        "         dataframe.drop(categorical_features,axis=1),\n",
        "         pd.DataFrame(encoded_data, columns=encoder.get_feature_names_out(categorical_features))\n",
        "      ],\n",
        "      axis=1\n",
        "   )\n",
        "   df_encoded[encoder.get_feature_names_out(categorical_features)] = df_encoded[encoder.get_feature_names_out(categorical_features)].astype(int)\n",
        "   return df_encoded\n",
        "\n",
        "df_train = binarize_targets(dataframe=df_train)\n",
        "\n",
        "encoder = OneHotEncoder(handle_unknown='ignore', sparse=False)\n",
        "\n",
        "for df in [df_train,df_test]:\n",
        "  df = month_as_category(dataframe=df)\n",
        "  df = normalize_n_seconds(dataframe=df)\n",
        "  df['carrier'] = df['carrier'].apply(change_carrier)\n",
        "  df['devicebrand'] = df['devicebrand'].apply(change_device_brand)\n",
        "  df = create_age_groups(dataframe=df)\n",
        "\n",
        "\n",
        "categorical_features = ['month','carrier','devicebrand','age_group']\n",
        "encoder.fit(df_train[categorical_features])\n",
        "\n",
        "df_train = encode_categoricals(dataframe=df_train, encoder=encoder,categorical_features=categorical_features)\n",
        "df_test = encode_categoricals(dataframe=df_test, encoder=encoder,categorical_features=categorical_features)\n",
        "\n",
        "print(f'Shape DF Train {df_train.shape}, Shape DF Test {df_test.shape}')"
      ]
    },
    {
      "cell_type": "markdown",
      "metadata": {
        "id": "9SrItFI4ZTIP"
      },
      "source": [
        "### Train Test Split"
      ]
    },
    {
      "cell_type": "code",
      "execution_count": 5,
      "metadata": {
        "colab": {
          "base_uri": "https://localhost:8080/"
        },
        "id": "vyRT6G-iYa1o",
        "outputId": "412aefa2-0a56-43ae-90f5-5a398bae45f3"
      },
      "outputs": [
        {
          "name": "stdout",
          "output_type": "stream",
          "text": [
            "X_train shape (75239, 69), y_train shape (75239, 9)\n",
            "X_test shape (18810, 69), y_test shape (18810, 9)\n"
          ]
        }
      ],
      "source": [
        "targets = ['menu1','menu2', 'menu3', 'menu4', 'menu5', 'menu6', 'menu7', 'menu8', 'menu9']\n",
        "\n",
        "X = df_train.drop(targets + ['id'], axis=1)\n",
        "y = df_train[targets]\n",
        "\n",
        "X_train, X_test, y_train, y_test = train_test_split(\n",
        "    X,\n",
        "    y,\n",
        "    test_size=0.2,\n",
        "    random_state=0\n",
        ")\n",
        "\n",
        "print(f'X_train shape {X_train.shape}, y_train shape {y_train.shape}')\n",
        "print(f'X_test shape {X_test.shape}, y_test shape {y_test.shape}')"
      ]
    },
    {
      "cell_type": "markdown",
      "metadata": {
        "id": "bk7oKzoyaJtK"
      },
      "source": [
        "### Modelling"
      ]
    },
    {
      "cell_type": "code",
      "execution_count": 6,
      "metadata": {
        "colab": {
          "base_uri": "https://localhost:8080/"
        },
        "id": "Rg8h4ucxZ-rY",
        "outputId": "6db54c4c-fe24-44c3-c852-71d5603eee8d"
      },
      "outputs": [
        {
          "data": {
            "text/html": [
              "<style>#sk-container-id-1 {color: black;background-color: white;}#sk-container-id-1 pre{padding: 0;}#sk-container-id-1 div.sk-toggleable {background-color: white;}#sk-container-id-1 label.sk-toggleable__label {cursor: pointer;display: block;width: 100%;margin-bottom: 0;padding: 0.3em;box-sizing: border-box;text-align: center;}#sk-container-id-1 label.sk-toggleable__label-arrow:before {content: \"▸\";float: left;margin-right: 0.25em;color: #696969;}#sk-container-id-1 label.sk-toggleable__label-arrow:hover:before {color: black;}#sk-container-id-1 div.sk-estimator:hover label.sk-toggleable__label-arrow:before {color: black;}#sk-container-id-1 div.sk-toggleable__content {max-height: 0;max-width: 0;overflow: hidden;text-align: left;background-color: #f0f8ff;}#sk-container-id-1 div.sk-toggleable__content pre {margin: 0.2em;color: black;border-radius: 0.25em;background-color: #f0f8ff;}#sk-container-id-1 input.sk-toggleable__control:checked~div.sk-toggleable__content {max-height: 200px;max-width: 100%;overflow: auto;}#sk-container-id-1 input.sk-toggleable__control:checked~label.sk-toggleable__label-arrow:before {content: \"▾\";}#sk-container-id-1 div.sk-estimator input.sk-toggleable__control:checked~label.sk-toggleable__label {background-color: #d4ebff;}#sk-container-id-1 div.sk-label input.sk-toggleable__control:checked~label.sk-toggleable__label {background-color: #d4ebff;}#sk-container-id-1 input.sk-hidden--visually {border: 0;clip: rect(1px 1px 1px 1px);clip: rect(1px, 1px, 1px, 1px);height: 1px;margin: -1px;overflow: hidden;padding: 0;position: absolute;width: 1px;}#sk-container-id-1 div.sk-estimator {font-family: monospace;background-color: #f0f8ff;border: 1px dotted black;border-radius: 0.25em;box-sizing: border-box;margin-bottom: 0.5em;}#sk-container-id-1 div.sk-estimator:hover {background-color: #d4ebff;}#sk-container-id-1 div.sk-parallel-item::after {content: \"\";width: 100%;border-bottom: 1px solid gray;flex-grow: 1;}#sk-container-id-1 div.sk-label:hover label.sk-toggleable__label {background-color: #d4ebff;}#sk-container-id-1 div.sk-serial::before {content: \"\";position: absolute;border-left: 1px solid gray;box-sizing: border-box;top: 0;bottom: 0;left: 50%;z-index: 0;}#sk-container-id-1 div.sk-serial {display: flex;flex-direction: column;align-items: center;background-color: white;padding-right: 0.2em;padding-left: 0.2em;position: relative;}#sk-container-id-1 div.sk-item {position: relative;z-index: 1;}#sk-container-id-1 div.sk-parallel {display: flex;align-items: stretch;justify-content: center;background-color: white;position: relative;}#sk-container-id-1 div.sk-item::before, #sk-container-id-1 div.sk-parallel-item::before {content: \"\";position: absolute;border-left: 1px solid gray;box-sizing: border-box;top: 0;bottom: 0;left: 50%;z-index: -1;}#sk-container-id-1 div.sk-parallel-item {display: flex;flex-direction: column;z-index: 1;position: relative;background-color: white;}#sk-container-id-1 div.sk-parallel-item:first-child::after {align-self: flex-end;width: 50%;}#sk-container-id-1 div.sk-parallel-item:last-child::after {align-self: flex-start;width: 50%;}#sk-container-id-1 div.sk-parallel-item:only-child::after {width: 0;}#sk-container-id-1 div.sk-dashed-wrapped {border: 1px dashed gray;margin: 0 0.4em 0.5em 0.4em;box-sizing: border-box;padding-bottom: 0.4em;background-color: white;}#sk-container-id-1 div.sk-label label {font-family: monospace;font-weight: bold;display: inline-block;line-height: 1.2em;}#sk-container-id-1 div.sk-label-container {text-align: center;}#sk-container-id-1 div.sk-container {/* jupyter's `normalize.less` sets `[hidden] { display: none; }` but bootstrap.min.css set `[hidden] { display: none !important; }` so we also need the `!important` here to be able to override the default hidden behavior on the sphinx rendered scikit-learn.org. See: https://github.com/scikit-learn/scikit-learn/issues/21755 */display: inline-block !important;position: relative;}#sk-container-id-1 div.sk-text-repr-fallback {display: none;}</style><div id=\"sk-container-id-1\" class=\"sk-top-container\"><div class=\"sk-text-repr-fallback\"><pre>XGBClassifier(base_score=None, booster=None, callbacks=None,\n",
              "              colsample_bylevel=None, colsample_bynode=None,\n",
              "              colsample_bytree=None, early_stopping_rounds=None,\n",
              "              enable_categorical=False, eval_metric=None, feature_types=None,\n",
              "              gamma=None, gpu_id=None, grow_policy=None, importance_type=None,\n",
              "              interaction_constraints=None, learning_rate=None, max_bin=None,\n",
              "              max_cat_threshold=None, max_cat_to_onehot=None,\n",
              "              max_delta_step=None, max_depth=None, max_leaves=None,\n",
              "              min_child_weight=None, missing=nan, monotone_constraints=None,\n",
              "              n_estimators=100, n_jobs=None, num_parallel_tree=None,\n",
              "              predictor=None, random_state=None, ...)</pre><b>In a Jupyter environment, please rerun this cell to show the HTML representation or trust the notebook. <br />On GitHub, the HTML representation is unable to render, please try loading this page with nbviewer.org.</b></div><div class=\"sk-container\" hidden><div class=\"sk-item\"><div class=\"sk-estimator sk-toggleable\"><input class=\"sk-toggleable__control sk-hidden--visually\" id=\"sk-estimator-id-1\" type=\"checkbox\" checked><label for=\"sk-estimator-id-1\" class=\"sk-toggleable__label sk-toggleable__label-arrow\">XGBClassifier</label><div class=\"sk-toggleable__content\"><pre>XGBClassifier(base_score=None, booster=None, callbacks=None,\n",
              "              colsample_bylevel=None, colsample_bynode=None,\n",
              "              colsample_bytree=None, early_stopping_rounds=None,\n",
              "              enable_categorical=False, eval_metric=None, feature_types=None,\n",
              "              gamma=None, gpu_id=None, grow_policy=None, importance_type=None,\n",
              "              interaction_constraints=None, learning_rate=None, max_bin=None,\n",
              "              max_cat_threshold=None, max_cat_to_onehot=None,\n",
              "              max_delta_step=None, max_depth=None, max_leaves=None,\n",
              "              min_child_weight=None, missing=nan, monotone_constraints=None,\n",
              "              n_estimators=100, n_jobs=None, num_parallel_tree=None,\n",
              "              predictor=None, random_state=None, ...)</pre></div></div></div></div></div>"
            ],
            "text/plain": [
              "XGBClassifier(base_score=None, booster=None, callbacks=None,\n",
              "              colsample_bylevel=None, colsample_bynode=None,\n",
              "              colsample_bytree=None, early_stopping_rounds=None,\n",
              "              enable_categorical=False, eval_metric=None, feature_types=None,\n",
              "              gamma=None, gpu_id=None, grow_policy=None, importance_type=None,\n",
              "              interaction_constraints=None, learning_rate=None, max_bin=None,\n",
              "              max_cat_threshold=None, max_cat_to_onehot=None,\n",
              "              max_delta_step=None, max_depth=None, max_leaves=None,\n",
              "              min_child_weight=None, missing=nan, monotone_constraints=None,\n",
              "              n_estimators=100, n_jobs=None, num_parallel_tree=None,\n",
              "              predictor=None, random_state=None, ...)"
            ]
          },
          "execution_count": 6,
          "metadata": {},
          "output_type": "execute_result"
        }
      ],
      "source": [
        "xgb_clf = XGBClassifier(tree_method='hist')\n",
        "xgb_clf.fit(X_train,y_train)  "
      ]
    },
    {
      "cell_type": "code",
      "execution_count": 7,
      "metadata": {},
      "outputs": [],
      "source": [
        "def binarize_preds(preds):\n",
        "    sorted_indices = np.argsort(preds, axis=1)[:, ::-1]\n",
        "    binary_array = np.zeros_like(preds)\n",
        "    \n",
        "    for row, indices in enumerate(sorted_indices[:, :3]):\n",
        "        binary_array[row, indices] = 1\n",
        "\n",
        "    return binary_array\n",
        "\n",
        "\n",
        "y_proba = xgb_clf.predict_proba(X_train)\n",
        "\n",
        "binarized_preds = pd.DataFrame(binarize_preds(preds=y_proba),columns=y_train.columns, index=y_train.index)\n"
      ]
    },
    {
      "cell_type": "code",
      "execution_count": 11,
      "metadata": {},
      "outputs": [
        {
          "data": {
            "text/html": [
              "<div>\n",
              "<style scoped>\n",
              "    .dataframe tbody tr th:only-of-type {\n",
              "        vertical-align: middle;\n",
              "    }\n",
              "\n",
              "    .dataframe tbody tr th {\n",
              "        vertical-align: top;\n",
              "    }\n",
              "\n",
              "    .dataframe thead th {\n",
              "        text-align: right;\n",
              "    }\n",
              "</style>\n",
              "<table border=\"1\" class=\"dataframe\">\n",
              "  <thead>\n",
              "    <tr style=\"text-align: right;\">\n",
              "      <th></th>\n",
              "      <th>menu1</th>\n",
              "      <th>menu2</th>\n",
              "      <th>menu3</th>\n",
              "      <th>menu4</th>\n",
              "      <th>menu5</th>\n",
              "      <th>menu6</th>\n",
              "      <th>menu7</th>\n",
              "      <th>menu8</th>\n",
              "      <th>menu9</th>\n",
              "    </tr>\n",
              "  </thead>\n",
              "  <tbody>\n",
              "    <tr>\n",
              "      <th>26543</th>\n",
              "      <td>0</td>\n",
              "      <td>1</td>\n",
              "      <td>0</td>\n",
              "      <td>1</td>\n",
              "      <td>0</td>\n",
              "      <td>0</td>\n",
              "      <td>0</td>\n",
              "      <td>0</td>\n",
              "      <td>1</td>\n",
              "    </tr>\n",
              "    <tr>\n",
              "      <th>61839</th>\n",
              "      <td>0</td>\n",
              "      <td>1</td>\n",
              "      <td>0</td>\n",
              "      <td>0</td>\n",
              "      <td>0</td>\n",
              "      <td>1</td>\n",
              "      <td>0</td>\n",
              "      <td>0</td>\n",
              "      <td>1</td>\n",
              "    </tr>\n",
              "    <tr>\n",
              "      <th>84693</th>\n",
              "      <td>0</td>\n",
              "      <td>1</td>\n",
              "      <td>0</td>\n",
              "      <td>0</td>\n",
              "      <td>0</td>\n",
              "      <td>1</td>\n",
              "      <td>0</td>\n",
              "      <td>1</td>\n",
              "      <td>0</td>\n",
              "    </tr>\n",
              "    <tr>\n",
              "      <th>39528</th>\n",
              "      <td>0</td>\n",
              "      <td>1</td>\n",
              "      <td>0</td>\n",
              "      <td>1</td>\n",
              "      <td>0</td>\n",
              "      <td>1</td>\n",
              "      <td>0</td>\n",
              "      <td>0</td>\n",
              "      <td>0</td>\n",
              "    </tr>\n",
              "    <tr>\n",
              "      <th>8287</th>\n",
              "      <td>0</td>\n",
              "      <td>1</td>\n",
              "      <td>0</td>\n",
              "      <td>1</td>\n",
              "      <td>0</td>\n",
              "      <td>1</td>\n",
              "      <td>0</td>\n",
              "      <td>0</td>\n",
              "      <td>0</td>\n",
              "    </tr>\n",
              "  </tbody>\n",
              "</table>\n",
              "</div>"
            ],
            "text/plain": [
              "       menu1  menu2  menu3  menu4  menu5  menu6  menu7  menu8  menu9\n",
              "26543      0      1      0      1      0      0      0      0      1\n",
              "61839      0      1      0      0      0      1      0      0      1\n",
              "84693      0      1      0      0      0      1      0      1      0\n",
              "39528      0      1      0      1      0      1      0      0      0\n",
              "8287       0      1      0      1      0      1      0      0      0"
            ]
          },
          "execution_count": 11,
          "metadata": {},
          "output_type": "execute_result"
        }
      ],
      "source": [
        "binarized_preds[targets] = binarized_preds[targets].astype(int)\n",
        "\n",
        "binarized_preds.head()"
      ]
    },
    {
      "cell_type": "code",
      "execution_count": 12,
      "metadata": {},
      "outputs": [
        {
          "data": {
            "text/html": [
              "<div>\n",
              "<style scoped>\n",
              "    .dataframe tbody tr th:only-of-type {\n",
              "        vertical-align: middle;\n",
              "    }\n",
              "\n",
              "    .dataframe tbody tr th {\n",
              "        vertical-align: top;\n",
              "    }\n",
              "\n",
              "    .dataframe thead th {\n",
              "        text-align: right;\n",
              "    }\n",
              "</style>\n",
              "<table border=\"1\" class=\"dataframe\">\n",
              "  <thead>\n",
              "    <tr style=\"text-align: right;\">\n",
              "      <th></th>\n",
              "      <th>menu1</th>\n",
              "      <th>menu2</th>\n",
              "      <th>menu3</th>\n",
              "      <th>menu4</th>\n",
              "      <th>menu5</th>\n",
              "      <th>menu6</th>\n",
              "      <th>menu7</th>\n",
              "      <th>menu8</th>\n",
              "      <th>menu9</th>\n",
              "    </tr>\n",
              "  </thead>\n",
              "  <tbody>\n",
              "    <tr>\n",
              "      <th>26543</th>\n",
              "      <td>0</td>\n",
              "      <td>1</td>\n",
              "      <td>0</td>\n",
              "      <td>1</td>\n",
              "      <td>0</td>\n",
              "      <td>0</td>\n",
              "      <td>0</td>\n",
              "      <td>0</td>\n",
              "      <td>1</td>\n",
              "    </tr>\n",
              "    <tr>\n",
              "      <th>61839</th>\n",
              "      <td>0</td>\n",
              "      <td>1</td>\n",
              "      <td>0</td>\n",
              "      <td>0</td>\n",
              "      <td>0</td>\n",
              "      <td>1</td>\n",
              "      <td>0</td>\n",
              "      <td>0</td>\n",
              "      <td>1</td>\n",
              "    </tr>\n",
              "    <tr>\n",
              "      <th>84693</th>\n",
              "      <td>0</td>\n",
              "      <td>1</td>\n",
              "      <td>0</td>\n",
              "      <td>0</td>\n",
              "      <td>0</td>\n",
              "      <td>1</td>\n",
              "      <td>0</td>\n",
              "      <td>1</td>\n",
              "      <td>0</td>\n",
              "    </tr>\n",
              "    <tr>\n",
              "      <th>39528</th>\n",
              "      <td>0</td>\n",
              "      <td>1</td>\n",
              "      <td>0</td>\n",
              "      <td>1</td>\n",
              "      <td>0</td>\n",
              "      <td>0</td>\n",
              "      <td>0</td>\n",
              "      <td>0</td>\n",
              "      <td>1</td>\n",
              "    </tr>\n",
              "    <tr>\n",
              "      <th>8287</th>\n",
              "      <td>0</td>\n",
              "      <td>1</td>\n",
              "      <td>0</td>\n",
              "      <td>1</td>\n",
              "      <td>0</td>\n",
              "      <td>1</td>\n",
              "      <td>0</td>\n",
              "      <td>0</td>\n",
              "      <td>0</td>\n",
              "    </tr>\n",
              "  </tbody>\n",
              "</table>\n",
              "</div>"
            ],
            "text/plain": [
              "       menu1  menu2  menu3  menu4  menu5  menu6  menu7  menu8  menu9\n",
              "26543      0      1      0      1      0      0      0      0      1\n",
              "61839      0      1      0      0      0      1      0      0      1\n",
              "84693      0      1      0      0      0      1      0      1      0\n",
              "39528      0      1      0      1      0      0      0      0      1\n",
              "8287       0      1      0      1      0      1      0      0      0"
            ]
          },
          "execution_count": 12,
          "metadata": {},
          "output_type": "execute_result"
        }
      ],
      "source": [
        "y_train.head()"
      ]
    },
    {
      "cell_type": "code",
      "execution_count": null,
      "metadata": {},
      "outputs": [],
      "source": []
    }
  ],
  "metadata": {
    "colab": {
      "provenance": []
    },
    "kernelspec": {
      "display_name": "Python 3",
      "language": "python",
      "name": "python3"
    },
    "language_info": {
      "codemirror_mode": {
        "name": "ipython",
        "version": 3
      },
      "file_extension": ".py",
      "mimetype": "text/x-python",
      "name": "python",
      "nbconvert_exporter": "python",
      "pygments_lexer": "ipython3",
      "version": "3.10.0"
    },
    "orig_nbformat": 4
  },
  "nbformat": 4,
  "nbformat_minor": 0
}
