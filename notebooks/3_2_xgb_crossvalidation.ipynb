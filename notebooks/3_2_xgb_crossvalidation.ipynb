{
 "cells": [
  {
   "cell_type": "code",
   "execution_count": null,
   "metadata": {},
   "outputs": [],
   "source": [
    "from pathlib import Path\n",
    "from warnings import simplefilter\n",
    "\n",
    "import numpy as np\n",
    "import pandas as pd\n",
    "import matplotlib.pyplot as plt\n",
    "import seaborn as sns\n",
    "\n",
    "from sklearn.model_selection import train_test_split,KFold\n",
    "from sklearn.compose import ColumnTransformer\n",
    "from sklearn.preprocessing import OneHotEncoder\n",
    "from sklearn.metrics import jaccard_score\n",
    "\n",
    "from sklearn.multioutput import MultiOutputClassifier\n",
    "from sklearn.linear_model import LogisticRegression\n",
    "from sklearn.ensemble import RandomForestClassifier, AdaBoostClassifier\n",
    "\n",
    "from xgboost import XGBClassifier\n",
    "import lightgbm as lgb\n",
    "from catboost import CatBoostClassifier\n",
    "\n",
    "simplefilter('ignore')\n",
    "pd.set_option('display.max_columns',None)\n",
    "pd.set_option('display.max_rows',None)\n",
    "\n",
    "plt.style.use('ggplot')\n",
    "plt.rc('figure',autolayout=True, figsize=(11,4))\n",
    "plt.rc(\n",
    "    \"axes\",\n",
    "    labelweight=\"bold\",\n",
    "    labelsize=\"large\",\n",
    "    titleweight=\"bold\",\n",
    "    titlesize=18,\n",
    "    titlepad=10\n",
    ")"
   ]
  },
  {
   "cell_type": "code",
   "execution_count": 34,
   "metadata": {},
   "outputs": [],
   "source": [
    "data_dir = Path('../data')\n",
    "\n",
    "df_train = pd.read_parquet(\n",
    "    data_dir / 'train_final.parquet'\n",
    ")\n",
    "\n",
    "df_test = pd.read_parquet(\n",
    "    data_dir / 'test_final.parquet'\n",
    ")\n",
    "\n",
    "ss = pd.read_parquet(\n",
    "    data_dir / 'submission_sample_final.parquet'\n",
    ")"
   ]
  },
  {
   "cell_type": "markdown",
   "metadata": {},
   "source": [
    "#### Feature Engineering"
   ]
  },
  {
   "cell_type": "code",
   "execution_count": 35,
   "metadata": {},
   "outputs": [
    {
     "name": "stdout",
     "output_type": "stream",
     "text": [
      "Shape DF Train (94049, 79), Shape DF Test (11955, 70)\n"
     ]
    }
   ],
   "source": [
    "def binarize_targets(dataframe,menu_count = 9):\n",
    "  unique_menus = ['menu' + str(i) for i in range(1,menu_count + 1)]\n",
    "  dataframe[unique_menus] = 0\n",
    "  for i,row in dataframe.iterrows():\n",
    "    menus = row['target'].split(', ')\n",
    "    for menu in menus:\n",
    "        if menu in unique_menus:\n",
    "            dataframe.loc[i,menu] = 1\n",
    "\n",
    "  dataframe.drop('target',axis=1,inplace=True)\n",
    "\n",
    "  return dataframe\n",
    "\n",
    "def month_as_category(dataframe):\n",
    "   dataframe['month'] = dataframe['month'].astype('object')\n",
    "\n",
    "   return dataframe\n",
    "\n",
    "def normalize_n_seconds(dataframe):\n",
    "  dataframe['n_seconds'] = dataframe[['n_seconds_1','n_seconds_2','n_seconds_3']].sum(axis=1)\n",
    "\n",
    "  for col in ['n_seconds_1','n_seconds_2','n_seconds_3']:\n",
    "      dataframe[col] = dataframe[col] / dataframe['n_seconds']\n",
    "\n",
    "  return dataframe\n",
    "\n",
    "\n",
    "def change_carrier(carrier):\n",
    "  if carrier not in ['TURKCELL','VODAFONE TR', 'TURK TELEKOM']:\n",
    "    carrier = 'OTHER'\n",
    "\n",
    "  return carrier\n",
    "\n",
    "def change_device_brand(devicebrand):\n",
    "  if devicebrand != 'Apple':\n",
    "    devicebrand = 'Android'\n",
    "\n",
    "  return devicebrand\n",
    "\n",
    "def create_age_groups(dataframe):\n",
    "  bins = [20,30,40,50,60,70,120]\n",
    "  labels = ['20-29','30-39','40-49','50-59','60-69','70+']\n",
    "  dataframe['age_group'] = pd.cut(dataframe.feature_49, bins, labels=labels, include_lowest=True)\n",
    "\n",
    "  return dataframe\n",
    "\n",
    "def encode_categoricals(dataframe,encoder,categorical_features):\n",
    "\n",
    "   encoded_data = encoder.transform(dataframe[categorical_features])\n",
    "   df_encoded = pd.concat(\n",
    "      [\n",
    "         dataframe.drop(categorical_features,axis=1),\n",
    "         pd.DataFrame(encoded_data, columns=encoder.get_feature_names_out(categorical_features))\n",
    "      ],\n",
    "      axis=1\n",
    "   )\n",
    "   df_encoded[encoder.get_feature_names_out(categorical_features)] = df_encoded[encoder.get_feature_names_out(categorical_features)].astype(int)\n",
    "   return df_encoded\n",
    "\n",
    "df_train = binarize_targets(dataframe=df_train)\n",
    "\n",
    "encoder = OneHotEncoder(handle_unknown='ignore', sparse=False)\n",
    "\n",
    "for df in [df_train,df_test]:\n",
    "  df = month_as_category(dataframe=df)\n",
    "  df = normalize_n_seconds(dataframe=df)\n",
    "  df['carrier'] = df['carrier'].apply(change_carrier)\n",
    "  df['devicebrand'] = df['devicebrand'].apply(change_device_brand)\n",
    "  df = create_age_groups(dataframe=df)\n",
    "\n",
    "\n",
    "categorical_features = ['month','carrier','devicebrand','age_group']\n",
    "encoder.fit(df_train[categorical_features])\n",
    "\n",
    "df_train = encode_categoricals(dataframe=df_train, encoder=encoder,categorical_features=categorical_features)\n",
    "df_test = encode_categoricals(dataframe=df_test, encoder=encoder,categorical_features=categorical_features)\n",
    "\n",
    "print(f'Shape DF Train {df_train.shape}, Shape DF Test {df_test.shape}')"
   ]
  },
  {
   "cell_type": "markdown",
   "metadata": {},
   "source": [
    "#### Defining X,y"
   ]
  },
  {
   "cell_type": "code",
   "execution_count": 36,
   "metadata": {},
   "outputs": [],
   "source": [
    "targets = ['menu1','menu2', 'menu3', 'menu4', 'menu5', 'menu6', 'menu7', 'menu8', 'menu9']\n",
    "features = [col for col in df_train.columns.to_list() if col not in targets + ['id']]\n",
    "\n",
    "X = df_train[features]\n",
    "y = df_train[targets]"
   ]
  },
  {
   "cell_type": "markdown",
   "metadata": {},
   "source": [
    "#### Evaluation Utils"
   ]
  },
  {
   "cell_type": "code",
   "execution_count": 37,
   "metadata": {},
   "outputs": [],
   "source": [
    "def binarize_preds(preds):\n",
    "    sorted_indices = np.argsort(preds, axis=1)[:, ::-1]\n",
    "    binary_array = np.zeros_like(preds)\n",
    "    \n",
    "    for row, indices in enumerate(sorted_indices[:, :3]):\n",
    "        binary_array[row, indices] = 1\n",
    "\n",
    "    return binary_array.astype(int)\n",
    "\n",
    "def evaluate_model(model,eval_set,y_true):\n",
    "    y_pred = model.predict_proba(eval_set)\n",
    "    y_pred = binarize_preds(preds=y_pred)\n",
    "\n",
    "    js = jaccard_score(y_true,y_pred,average='micro') \n",
    "\n",
    "    return js"
   ]
  },
  {
   "cell_type": "code",
   "execution_count": 38,
   "metadata": {},
   "outputs": [
    {
     "name": "stdout",
     "output_type": "stream",
     "text": [
      "For fold:  0\n"
     ]
    },
    {
     "name": "stdout",
     "output_type": "stream",
     "text": [
      "Train shape: (80613, 69) | Val Shape: (13436, 69)\n",
      "Fold Jaccard Score:  0.5135175728446981\n",
      "\n",
      " ********************************************************************** \n",
      "\n",
      "For fold:  1\n",
      "Train shape: (80613, 69) | Val Shape: (13436, 69)\n",
      "Fold Jaccard Score:  0.5149966173043674\n",
      "\n",
      " ********************************************************************** \n",
      "\n",
      "For fold:  2\n",
      "Train shape: (80613, 69) | Val Shape: (13436, 69)\n",
      "Fold Jaccard Score:  0.5149396775284699\n",
      "\n",
      " ********************************************************************** \n",
      "\n",
      "For fold:  3\n",
      "Train shape: (80613, 69) | Val Shape: (13436, 69)\n",
      "Fold Jaccard Score:  0.5159367419470091\n",
      "\n",
      " ********************************************************************** \n",
      "\n",
      "For fold:  4\n",
      "Train shape: (80614, 69) | Val Shape: (13435, 69)\n",
      "Fold Jaccard Score:  0.5118721632469335\n",
      "\n",
      " ********************************************************************** \n",
      "\n",
      "For fold:  5\n",
      "Train shape: (80614, 69) | Val Shape: (13435, 69)\n",
      "Fold Jaccard Score:  0.5186797038376759\n",
      "\n",
      " ********************************************************************** \n",
      "\n",
      "For fold:  6\n",
      "Train shape: (80614, 69) | Val Shape: (13435, 69)\n",
      "Fold Jaccard Score:  0.5091549032088966\n",
      "\n",
      " ********************************************************************** \n",
      "\n"
     ]
    }
   ],
   "source": [
    "xgb_params = {\n",
    "    'lambda': 0.002726063447574496, \n",
    "    'alpha': 0.0035451668057874825, \n",
    "    'colsample_bytree': 0.6,\n",
    "    'subsample': 0.6, \n",
    "    'learning_rate': 0.016,\n",
    "    'n_estimators': 275, \n",
    "    'max_depth': 15, \n",
    "    'random_state': 2020, \n",
    "    'min_child_weight': 37,\n",
    "    'tree_method' : 'hist'}\n",
    "\n",
    "kf = KFold(n_splits=7,random_state=925,shuffle=True)\n",
    "jaccard_scores = []\n",
    "\n",
    "for fold,(train_idx,test_idx) in enumerate(kf.split(X)):\n",
    "    print('For fold: ', fold)\n",
    "\n",
    "    X_train,X_val = X.iloc[train_idx,:],X.iloc[test_idx,:]\n",
    "    y_train,y_val = y.iloc[train_idx],y.iloc[test_idx]\n",
    "    print(\"Train shape:\", X_train.shape, \"|\", \"Val Shape:\", X_val.shape)\n",
    "\n",
    "    model = XGBClassifier(**xgb_params)\n",
    "\n",
    "    model.fit(\n",
    "        X_train,\n",
    "        y_train,\n",
    "        eval_set=[(X_val,y_val)],\n",
    "        verbose = False\n",
    "    )\n",
    "\n",
    "    js = evaluate_model(\n",
    "        model=model,\n",
    "        eval_set=X_val,\n",
    "        y_true=y_val\n",
    "    )\n",
    "    print('Fold Jaccard Score: ', js)\n",
    "    jaccard_scores.append(js)\n",
    "\n",
    "    print(\"\\n\", \"*\"*70, \"\\n\")"
   ]
  },
  {
   "cell_type": "code",
   "execution_count": 51,
   "metadata": {},
   "outputs": [
    {
     "data": {
      "image/png": "[encoded data removed]",
      "text/plain": [
       "<Figure size 1100x400 with 1 Axes>"
      ]
     },
     "metadata": {},
     "output_type": "display_data"
    }
   ],
   "source": [
    "importance = model.feature_importances_\n",
    "\n",
    "f_importance = pd.concat([\n",
    "    pd.Series(X.columns.to_list(),name='Feature'),\n",
    "    pd.Series(importance,name='Importance')\n",
    "], axis=1).sort_values(by='Importance', ascending=False)\n",
    "\n",
    "sns.barplot(data=f_importance.tail(20), x='Importance',y='Feature')\n",
    "\n",
    "plt.show()"
   ]
  },
  {
   "cell_type": "code",
   "execution_count": null,
   "metadata": {},
   "outputs": [],
   "source": []
  }
 ],
 "metadata": {
  "kernelspec": {
   "display_name": "Python 3",
   "language": "python",
   "name": "python3"
  },
  "language_info": {
   "codemirror_mode": {
    "name": "ipython",
    "version": 3
   },
   "file_extension": ".py",
   "mimetype": "text/x-python",
   "name": "python",
   "nbconvert_exporter": "python",
   "pygments_lexer": "ipython3",
   "version": "3.10.0"
  }
 },
 "nbformat": 4,
 "nbformat_minor": 2
}
